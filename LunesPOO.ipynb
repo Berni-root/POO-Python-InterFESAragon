{
  "nbformat": 4,
  "nbformat_minor": 0,
  "metadata": {
    "colab": {
      "provenance": [],
      "authorship_tag": "ABX9TyNqSTBEenf+GRSVyJ+/3Fpc",
      "include_colab_link": true
    },
    "kernelspec": {
      "name": "python3",
      "display_name": "Python 3"
    },
    "language_info": {
      "name": "python"
    }
  },
  "cells": [
    {
      "cell_type": "markdown",
      "metadata": {
        "id": "view-in-github",
        "colab_type": "text"
      },
      "source": [
        "<a href=\"https://colab.research.google.com/github/Berni-root/POO-Python-InterFESAragon/blob/main/LunesPOO.ipynb\" target=\"_parent\"><img src=\"https://colab.research.google.com/assets/colab-badge.svg\" alt=\"Open In Colab\"/></a>"
      ]
    },
    {
      "cell_type": "code",
      "execution_count": 1,
      "metadata": {
        "colab": {
          "base_uri": "https://localhost:8080/"
        },
        "id": "1GehubOM4Mn9",
        "outputId": "f6028166-e4b3-4015-a15f-52e6c39e8198"
      },
      "outputs": [
        {
          "output_type": "stream",
          "name": "stdout",
          "text": [
            "Hola Mundo\n"
          ]
        }
      ],
      "source": [
        "# Esto es un comentario\n",
        "print(\"Hola Mundo\")  # Esto imprime \"Hola Mundo\""
      ]
    },
    {
      "cell_type": "code",
      "source": [
        "!ls\n",
        "!ls -a\n",
        "!ls -la"
      ],
      "metadata": {
        "id": "OBrmY2fK5zC4"
      },
      "execution_count": null,
      "outputs": []
    },
    {
      "cell_type": "code",
      "source": [
        "!sudo apt install neofetch"
      ],
      "metadata": {
        "colab": {
          "base_uri": "https://localhost:8080/"
        },
        "id": "momz99bM5zXk",
        "outputId": "c958ec8d-81f3-4d3f-d7d7-645e0d9404de"
      },
      "execution_count": 6,
      "outputs": [
        {
          "output_type": "stream",
          "name": "stdout",
          "text": [
            "Reading package lists... Done\n",
            "Building dependency tree       \n",
            "Reading state information... Done\n",
            "The following additional packages will be installed:\n",
            "  chafa fonts-droid-fallback fonts-noto-mono fonts-urw-base35 ghostscript\n",
            "  gsfonts imagemagick-6-common libchafa0 libgs9 libgs9-common libidn11\n",
            "  libijs-0.35 libjbig2dec0 liblqr-1-0 libmagickcore-6.q16-6\n",
            "  libmagickwand-6.q16-6 poppler-data\n",
            "Suggested packages:\n",
            "  fonts-noto fonts-freefont-otf | fonts-freefont-ttf fonts-texgyre\n",
            "  ghostscript-x libmagickcore-6.q16-6-extra poppler-utils\n",
            "  fonts-japanese-mincho | fonts-ipafont-mincho fonts-japanese-gothic\n",
            "  | fonts-ipafont-gothic fonts-arphic-ukai fonts-arphic-uming fonts-nanum\n",
            "The following NEW packages will be installed:\n",
            "  chafa fonts-droid-fallback fonts-noto-mono fonts-urw-base35 ghostscript\n",
            "  gsfonts imagemagick-6-common libchafa0 libgs9 libgs9-common libidn11\n",
            "  libijs-0.35 libjbig2dec0 liblqr-1-0 libmagickcore-6.q16-6\n",
            "  libmagickwand-6.q16-6 neofetch poppler-data\n",
            "0 upgraded, 18 newly installed, 0 to remove and 38 not upgraded.\n",
            "Need to get 18.0 MB of archives.\n",
            "After this operation, 66.2 MB of additional disk space will be used.\n",
            "Get:1 http://archive.ubuntu.com/ubuntu focal/main amd64 fonts-droid-fallback all 1:6.0.1r16-1.1 [1,805 kB]\n",
            "Get:2 http://archive.ubuntu.com/ubuntu focal/universe amd64 liblqr-1-0 amd64 0.4.2-2.1 [27.7 kB]\n",
            "Get:3 http://archive.ubuntu.com/ubuntu focal-updates/universe amd64 imagemagick-6-common all 8:6.9.10.23+dfsg-2.1ubuntu11.7 [61.0 kB]\n",
            "Get:4 http://archive.ubuntu.com/ubuntu focal-updates/universe amd64 libmagickcore-6.q16-6 amd64 8:6.9.10.23+dfsg-2.1ubuntu11.7 [1,647 kB]\n",
            "Get:5 http://archive.ubuntu.com/ubuntu focal-updates/universe amd64 libmagickwand-6.q16-6 amd64 8:6.9.10.23+dfsg-2.1ubuntu11.7 [303 kB]\n",
            "Get:6 http://archive.ubuntu.com/ubuntu focal/main amd64 poppler-data all 0.4.9-2 [1,475 kB]\n",
            "Get:7 http://archive.ubuntu.com/ubuntu focal/universe amd64 libchafa0 amd64 1.2.1-1 [42.1 kB]\n",
            "Get:8 http://archive.ubuntu.com/ubuntu focal/universe amd64 chafa amd64 1.2.1-1 [29.7 kB]\n",
            "Get:9 http://archive.ubuntu.com/ubuntu focal-updates/main amd64 fonts-noto-mono all 20200323-1build1~ubuntu20.04.1 [80.6 kB]\n",
            "Get:10 http://archive.ubuntu.com/ubuntu focal/main amd64 fonts-urw-base35 all 20170801.1-3 [6,333 kB]\n",
            "Get:11 http://archive.ubuntu.com/ubuntu focal-updates/main amd64 libgs9-common all 9.50~dfsg-5ubuntu4.7 [681 kB]\n",
            "Get:12 http://archive.ubuntu.com/ubuntu focal/main amd64 libidn11 amd64 1.33-2.2ubuntu2 [46.2 kB]\n",
            "Get:13 http://archive.ubuntu.com/ubuntu focal/main amd64 libijs-0.35 amd64 0.35-15 [15.7 kB]\n",
            "Get:14 http://archive.ubuntu.com/ubuntu focal/main amd64 libjbig2dec0 amd64 0.18-1ubuntu1 [60.0 kB]\n",
            "Get:15 http://archive.ubuntu.com/ubuntu focal-updates/main amd64 libgs9 amd64 9.50~dfsg-5ubuntu4.7 [2,173 kB]\n",
            "Get:16 http://archive.ubuntu.com/ubuntu focal-updates/main amd64 ghostscript amd64 9.50~dfsg-5ubuntu4.7 [51.9 kB]\n",
            "Get:17 http://archive.ubuntu.com/ubuntu focal/universe amd64 gsfonts all 1:8.11+urwcyr1.0.7~pre44-4.4 [3,120 kB]\n",
            "Get:18 http://archive.ubuntu.com/ubuntu focal/universe amd64 neofetch all 7.0.0-1 [77.5 kB]\n",
            "Fetched 18.0 MB in 0s (46.3 MB/s)\n",
            "debconf: unable to initialize frontend: Dialog\n",
            "debconf: (No usable dialog-like program is installed, so the dialog based frontend cannot be used. at /usr/share/perl5/Debconf/FrontEnd/Dialog.pm line 76, <> line 18.)\n",
            "debconf: falling back to frontend: Readline\n",
            "debconf: unable to initialize frontend: Readline\n",
            "debconf: (This frontend requires a controlling tty.)\n",
            "debconf: falling back to frontend: Teletype\n",
            "dpkg-preconfigure: unable to re-open stdin: \n",
            "Selecting previously unselected package fonts-droid-fallback.\n",
            "(Reading database ... 122541 files and directories currently installed.)\n",
            "Preparing to unpack .../00-fonts-droid-fallback_1%3a6.0.1r16-1.1_all.deb ...\n",
            "Unpacking fonts-droid-fallback (1:6.0.1r16-1.1) ...\n",
            "Selecting previously unselected package liblqr-1-0:amd64.\n",
            "Preparing to unpack .../01-liblqr-1-0_0.4.2-2.1_amd64.deb ...\n",
            "Unpacking liblqr-1-0:amd64 (0.4.2-2.1) ...\n",
            "Selecting previously unselected package imagemagick-6-common.\n",
            "Preparing to unpack .../02-imagemagick-6-common_8%3a6.9.10.23+dfsg-2.1ubuntu11.7_all.deb ...\n",
            "Unpacking imagemagick-6-common (8:6.9.10.23+dfsg-2.1ubuntu11.7) ...\n",
            "Selecting previously unselected package libmagickcore-6.q16-6:amd64.\n",
            "Preparing to unpack .../03-libmagickcore-6.q16-6_8%3a6.9.10.23+dfsg-2.1ubuntu11.7_amd64.deb ...\n",
            "Unpacking libmagickcore-6.q16-6:amd64 (8:6.9.10.23+dfsg-2.1ubuntu11.7) ...\n",
            "Selecting previously unselected package libmagickwand-6.q16-6:amd64.\n",
            "Preparing to unpack .../04-libmagickwand-6.q16-6_8%3a6.9.10.23+dfsg-2.1ubuntu11.7_amd64.deb ...\n",
            "Unpacking libmagickwand-6.q16-6:amd64 (8:6.9.10.23+dfsg-2.1ubuntu11.7) ...\n",
            "Selecting previously unselected package poppler-data.\n",
            "Preparing to unpack .../05-poppler-data_0.4.9-2_all.deb ...\n",
            "Unpacking poppler-data (0.4.9-2) ...\n",
            "Selecting previously unselected package libchafa0:amd64.\n",
            "Preparing to unpack .../06-libchafa0_1.2.1-1_amd64.deb ...\n",
            "Unpacking libchafa0:amd64 (1.2.1-1) ...\n",
            "Selecting previously unselected package chafa.\n",
            "Preparing to unpack .../07-chafa_1.2.1-1_amd64.deb ...\n",
            "Unpacking chafa (1.2.1-1) ...\n",
            "Selecting previously unselected package fonts-noto-mono.\n",
            "Preparing to unpack .../08-fonts-noto-mono_20200323-1build1~ubuntu20.04.1_all.deb ...\n",
            "Unpacking fonts-noto-mono (20200323-1build1~ubuntu20.04.1) ...\n",
            "Selecting previously unselected package fonts-urw-base35.\n",
            "Preparing to unpack .../09-fonts-urw-base35_20170801.1-3_all.deb ...\n",
            "Unpacking fonts-urw-base35 (20170801.1-3) ...\n",
            "Selecting previously unselected package libgs9-common.\n",
            "Preparing to unpack .../10-libgs9-common_9.50~dfsg-5ubuntu4.7_all.deb ...\n",
            "Unpacking libgs9-common (9.50~dfsg-5ubuntu4.7) ...\n",
            "Selecting previously unselected package libidn11:amd64.\n",
            "Preparing to unpack .../11-libidn11_1.33-2.2ubuntu2_amd64.deb ...\n",
            "Unpacking libidn11:amd64 (1.33-2.2ubuntu2) ...\n",
            "Selecting previously unselected package libijs-0.35:amd64.\n",
            "Preparing to unpack .../12-libijs-0.35_0.35-15_amd64.deb ...\n",
            "Unpacking libijs-0.35:amd64 (0.35-15) ...\n",
            "Selecting previously unselected package libjbig2dec0:amd64.\n",
            "Preparing to unpack .../13-libjbig2dec0_0.18-1ubuntu1_amd64.deb ...\n",
            "Unpacking libjbig2dec0:amd64 (0.18-1ubuntu1) ...\n",
            "Selecting previously unselected package libgs9:amd64.\n",
            "Preparing to unpack .../14-libgs9_9.50~dfsg-5ubuntu4.7_amd64.deb ...\n",
            "Unpacking libgs9:amd64 (9.50~dfsg-5ubuntu4.7) ...\n",
            "Selecting previously unselected package ghostscript.\n",
            "Preparing to unpack .../15-ghostscript_9.50~dfsg-5ubuntu4.7_amd64.deb ...\n",
            "Unpacking ghostscript (9.50~dfsg-5ubuntu4.7) ...\n",
            "Selecting previously unselected package gsfonts.\n",
            "Preparing to unpack .../16-gsfonts_1%3a8.11+urwcyr1.0.7~pre44-4.4_all.deb ...\n",
            "Unpacking gsfonts (1:8.11+urwcyr1.0.7~pre44-4.4) ...\n",
            "Selecting previously unselected package neofetch.\n",
            "Preparing to unpack .../17-neofetch_7.0.0-1_all.deb ...\n",
            "Unpacking neofetch (7.0.0-1) ...\n",
            "Setting up imagemagick-6-common (8:6.9.10.23+dfsg-2.1ubuntu11.7) ...\n",
            "Setting up fonts-noto-mono (20200323-1build1~ubuntu20.04.1) ...\n",
            "Setting up libijs-0.35:amd64 (0.35-15) ...\n",
            "Setting up fonts-urw-base35 (20170801.1-3) ...\n",
            "Setting up neofetch (7.0.0-1) ...\n",
            "Setting up poppler-data (0.4.9-2) ...\n",
            "Setting up libchafa0:amd64 (1.2.1-1) ...\n",
            "Setting up libjbig2dec0:amd64 (0.18-1ubuntu1) ...\n",
            "Setting up libidn11:amd64 (1.33-2.2ubuntu2) ...\n",
            "Setting up gsfonts (1:8.11+urwcyr1.0.7~pre44-4.4) ...\n",
            "Setting up liblqr-1-0:amd64 (0.4.2-2.1) ...\n",
            "Setting up fonts-droid-fallback (1:6.0.1r16-1.1) ...\n",
            "Setting up libgs9-common (9.50~dfsg-5ubuntu4.7) ...\n",
            "Setting up libgs9:amd64 (9.50~dfsg-5ubuntu4.7) ...\n",
            "Setting up ghostscript (9.50~dfsg-5ubuntu4.7) ...\n",
            "Setting up libmagickcore-6.q16-6:amd64 (8:6.9.10.23+dfsg-2.1ubuntu11.7) ...\n",
            "Setting up libmagickwand-6.q16-6:amd64 (8:6.9.10.23+dfsg-2.1ubuntu11.7) ...\n",
            "Setting up chafa (1.2.1-1) ...\n",
            "Processing triggers for man-db (2.9.1-1) ...\n",
            "Processing triggers for fontconfig (2.13.1-2ubuntu3) ...\n",
            "Processing triggers for libc-bin (2.31-0ubuntu9.9) ...\n"
          ]
        }
      ]
    },
    {
      "cell_type": "code",
      "source": [
        "!sudo apt install net-tools"
      ],
      "metadata": {
        "id": "5HW2vqFR_iNT"
      },
      "execution_count": null,
      "outputs": []
    },
    {
      "cell_type": "code",
      "source": [
        "!ifconfig"
      ],
      "metadata": {
        "colab": {
          "base_uri": "https://localhost:8080/"
        },
        "id": "mCc_Fb2E_wVG",
        "outputId": "8072690b-8378-443e-b7c4-4c6fe55bb188"
      },
      "execution_count": 19,
      "outputs": [
        {
          "output_type": "stream",
          "name": "stdout",
          "text": [
            "eth0: flags=4163<UP,BROADCAST,RUNNING,MULTICAST>  mtu 1500\n",
            "        inet 172.28.0.12  netmask 255.255.0.0  broadcast 172.28.255.255\n",
            "        ether 02:42:ac:1c:00:0c  txqueuelen 0  (Ethernet)\n",
            "        RX packets 4504  bytes 19458990 (19.4 MB)\n",
            "        RX errors 0  dropped 0  overruns 0  frame 0\n",
            "        TX packets 3433  bytes 1096595 (1.0 MB)\n",
            "        TX errors 0  dropped 0 overruns 0  carrier 0  collisions 0\n",
            "\n",
            "lo: flags=73<UP,LOOPBACK,RUNNING>  mtu 65536\n",
            "        inet 127.0.0.1  netmask 255.0.0.0\n",
            "        loop  txqueuelen 1000  (Local Loopback)\n",
            "        RX packets 34506  bytes 9308746 (9.3 MB)\n",
            "        RX errors 0  dropped 0  overruns 0  frame 0\n",
            "        TX packets 34506  bytes 9308746 (9.3 MB)\n",
            "        TX errors 0  dropped 0 overruns 0  carrier 0  collisions 0\n",
            "\n"
          ]
        }
      ]
    },
    {
      "cell_type": "code",
      "source": [
        "!neofetch"
      ],
      "metadata": {
        "colab": {
          "base_uri": "https://localhost:8080/"
        },
        "id": "0p6KEtav7mUF",
        "outputId": "5c06019e-79ce-4a90-bb9e-f385a4883b48"
      },
      "execution_count": 7,
      "outputs": [
        {
          "output_type": "stream",
          "name": "stdout",
          "text": [
            "\u001b[?25l\u001b[?7l\u001b[0m\u001b[31m\u001b[1m            .-/+oossssoo+/-.\n",
            "        `:+ssssssssssssssssss+:`\n",
            "      -+ssssssssssssssssssyyssss+-\n",
            "    .ossssssssssssssssss\u001b[37m\u001b[0m\u001b[1mdMMMNy\u001b[0m\u001b[31m\u001b[1msssso.\n",
            "   /sssssssssss\u001b[37m\u001b[0m\u001b[1mhdmmNNmmyNMMMMh\u001b[0m\u001b[31m\u001b[1mssssss/\n",
            "  +sssssssss\u001b[37m\u001b[0m\u001b[1mhm\u001b[0m\u001b[31m\u001b[1myd\u001b[37m\u001b[0m\u001b[1mMMMMMMMNddddy\u001b[0m\u001b[31m\u001b[1mssssssss+\n",
            " /ssssssss\u001b[37m\u001b[0m\u001b[1mhNMMM\u001b[0m\u001b[31m\u001b[1myh\u001b[37m\u001b[0m\u001b[1mhyyyyhmNMMMNh\u001b[0m\u001b[31m\u001b[1mssssssss/\n",
            ".ssssssss\u001b[37m\u001b[0m\u001b[1mdMMMNh\u001b[0m\u001b[31m\u001b[1mssssssssss\u001b[37m\u001b[0m\u001b[1mhNMMMd\u001b[0m\u001b[31m\u001b[1mssssssss.\n",
            "+ssss\u001b[37m\u001b[0m\u001b[1mhhhyNMMNy\u001b[0m\u001b[31m\u001b[1mssssssssssss\u001b[37m\u001b[0m\u001b[1myNMMMy\u001b[0m\u001b[31m\u001b[1msssssss+\n",
            "oss\u001b[37m\u001b[0m\u001b[1myNMMMNyMMh\u001b[0m\u001b[31m\u001b[1mssssssssssssss\u001b[37m\u001b[0m\u001b[1mhmmmh\u001b[0m\u001b[31m\u001b[1mssssssso\n",
            "oss\u001b[37m\u001b[0m\u001b[1myNMMMNyMMh\u001b[0m\u001b[31m\u001b[1msssssssssssssshmmmh\u001b[0m\u001b[31m\u001b[1mssssssso\n",
            "+ssss\u001b[37m\u001b[0m\u001b[1mhhhyNMMNy\u001b[0m\u001b[31m\u001b[1mssssssssssss\u001b[37m\u001b[0m\u001b[1myNMMMy\u001b[0m\u001b[31m\u001b[1msssssss+\n",
            ".ssssssss\u001b[37m\u001b[0m\u001b[1mdMMMNh\u001b[0m\u001b[31m\u001b[1mssssssssss\u001b[37m\u001b[0m\u001b[1mhNMMMd\u001b[0m\u001b[31m\u001b[1mssssssss.\n",
            " /ssssssss\u001b[37m\u001b[0m\u001b[1mhNMMM\u001b[0m\u001b[31m\u001b[1myh\u001b[37m\u001b[0m\u001b[1mhyyyyhdNMMMNh\u001b[0m\u001b[31m\u001b[1mssssssss/\n",
            "  +sssssssss\u001b[37m\u001b[0m\u001b[1mdm\u001b[0m\u001b[31m\u001b[1myd\u001b[37m\u001b[0m\u001b[1mMMMMMMMMddddy\u001b[0m\u001b[31m\u001b[1mssssssss+\n",
            "   /sssssssssss\u001b[37m\u001b[0m\u001b[1mhdmNNNNmyNMMMMh\u001b[0m\u001b[31m\u001b[1mssssss/\n",
            "    .ossssssssssssssssss\u001b[37m\u001b[0m\u001b[1mdMMMNy\u001b[0m\u001b[31m\u001b[1msssso.\n",
            "      -+sssssssssssssssss\u001b[37m\u001b[0m\u001b[1myyy\u001b[0m\u001b[31m\u001b[1mssss+-\n",
            "        `:+ssssssssssssssssss+:`\n",
            "            .-/+oossssoo+/-.\u001b[0m\n",
            "\u001b[20A\u001b[9999999D\u001b[43C\u001b[0m\u001b[1m\u001b[31m\u001b[1mroot\u001b[0m@\u001b[31m\u001b[1m17452d45aefd\u001b[0m \n",
            "\u001b[43C\u001b[0m-----------------\u001b[0m \n",
            "\u001b[43C\u001b[0m\u001b[31m\u001b[1mOS\u001b[0m\u001b[0m:\u001b[0m Ubuntu 20.04.5 LTS x86_64\u001b[0m \n",
            "\u001b[43C\u001b[0m\u001b[31m\u001b[1mHost\u001b[0m\u001b[0m:\u001b[0m Google Compute Engine\u001b[0m \n",
            "\u001b[43C\u001b[0m\u001b[31m\u001b[1mKernel\u001b[0m\u001b[0m:\u001b[0m 5.15.107+\u001b[0m \n",
            "\u001b[43C\u001b[0m\u001b[31m\u001b[1mUptime\u001b[0m\u001b[0m:\u001b[0m 8 mins\u001b[0m \n",
            "\u001b[43C\u001b[0m\u001b[31m\u001b[1mPackages\u001b[0m\u001b[0m:\u001b[0m 1251 (dpkg)\u001b[0m \n",
            "\u001b[43C\u001b[0m\u001b[31m\u001b[1mShell\u001b[0m\u001b[0m:\u001b[0m bash 5.0.17\u001b[0m \n",
            "\u001b[43C\u001b[0m\u001b[31m\u001b[1mTerminal\u001b[0m\u001b[0m:\u001b[0m jupyter-noteboo\u001b[0m \n",
            "\u001b[43C\u001b[0m\u001b[31m\u001b[1mCPU\u001b[0m\u001b[0m:\u001b[0m AMD EPYC 7B12 (2) @ 2.249GHz\u001b[0m \n",
            "\u001b[43C\u001b[0m\u001b[31m\u001b[1mMemory\u001b[0m\u001b[0m:\u001b[0m 613MiB / 12982MiB\u001b[0m \n",
            "\n",
            "\u001b[43C\u001b[30m\u001b[40m   \u001b[31m\u001b[41m   \u001b[32m\u001b[42m   \u001b[33m\u001b[43m   \u001b[34m\u001b[44m   \u001b[35m\u001b[45m   \u001b[36m\u001b[46m   \u001b[37m\u001b[47m   \u001b[m\n",
            "\u001b[43C\u001b[38;5;8m\u001b[48;5;8m   \u001b[38;5;9m\u001b[48;5;9m   \u001b[38;5;10m\u001b[48;5;10m   \u001b[38;5;11m\u001b[48;5;11m   \u001b[38;5;12m\u001b[48;5;12m   \u001b[38;5;13m\u001b[48;5;13m   \u001b[38;5;14m\u001b[48;5;14m   \u001b[38;5;15m\u001b[48;5;15m   \u001b[m\n",
            "\n",
            "\n",
            "\n",
            "\n",
            "\n",
            "\n",
            "\n",
            "\u001b[?25h\u001b[?7h"
          ]
        }
      ]
    },
    {
      "cell_type": "code",
      "source": [
        "print(\"Hola\", \"Mundo\")\n",
        " \n",
        "print(\"Hola\" + \"Mundo\")\n",
        " \n",
        "print(\"Hola\", \"Mundo\", sep=\"-\")  # Imprime: Hola-Mundo\n",
        " \n",
        "print(\"Hola\", end=\"\")\n",
        "print(\"Mundo\")  # Imprime: HolaMundo"
      ],
      "metadata": {
        "colab": {
          "base_uri": "https://localhost:8080/"
        },
        "id": "rORgnGQv5z7m",
        "outputId": "56b4f1fd-b984-4d8b-cc9b-88644cf40d6b"
      },
      "execution_count": 8,
      "outputs": [
        {
          "output_type": "stream",
          "name": "stdout",
          "text": [
            "Hola Mundo\n",
            "HolaMundo\n",
            "Hola-Mundo\n",
            "HolaMundo\n"
          ]
        }
      ]
    },
    {
      "cell_type": "code",
      "source": [
        "nombre = \"Bernabé\"\n",
        "carrera = \"ICO, la mejor\"\n",
        "print(\"Mi nombre es {0} y estudio {1} en la FES Aragón\".format(nombre, carrera))"
      ],
      "metadata": {
        "colab": {
          "base_uri": "https://localhost:8080/"
        },
        "id": "cvZyH5jf7xCs",
        "outputId": "272f5ac4-fde7-41cf-bf1b-9b27b88c15f8"
      },
      "execution_count": 11,
      "outputs": [
        {
          "output_type": "stream",
          "name": "stdout",
          "text": [
            "Mi nombre es Bernabé y estudio ICO, la mejor en la FES Aragón\n"
          ]
        }
      ]
    },
    {
      "cell_type": "code",
      "source": [
        "nombre = \"Bernabé\"\n",
        "carrera = \"ICO, la mejor\"\n",
        "print(f\"Mi nombre es { nombre} y estudio { carrera } en la FES Aragón\")"
      ],
      "metadata": {
        "colab": {
          "base_uri": "https://localhost:8080/"
        },
        "id": "0M3wZKm_8DU-",
        "outputId": "b73053d7-aabd-4b95-d87d-b1b0988fc153"
      },
      "execution_count": 10,
      "outputs": [
        {
          "output_type": "stream",
          "name": "stdout",
          "text": [
            "Mi nombre es Bernabé y estudio ICO, la mejor en la FES Aragón\n"
          ]
        }
      ]
    },
    {
      "cell_type": "code",
      "source": [
        "\"\"\"\n",
        "este es\n",
        "un \n",
        "comentario de\n",
        "múltiple línea\n",
        "\"\"\""
      ],
      "metadata": {
        "id": "wdCMci9X-M2-"
      },
      "execution_count": null,
      "outputs": []
    },
    {
      "cell_type": "code",
      "source": [
        "# Operadores aritméticos\n",
        "suma = 5 + 3    # 8\n",
        "resta = 5 - 3   # 2\n",
        "producto = 5 * 3  # 15\n",
        "division = 5 / 3  # 1.66667\n",
        "division2 = 5 // 3 # 1\n",
        "modulo = 5 % 3   # 2\n",
        "potencia = 5 ** 3  # 125"
      ],
      "metadata": {
        "id": "vdT7w3ry-NIH"
      },
      "execution_count": 12,
      "outputs": []
    },
    {
      "cell_type": "code",
      "source": [
        "# Operadores de comparación\n",
        "igual = 5 == 3  # False\n",
        "diferente = 5 != 3  # True\n",
        "mayor_que = 5 > 3  # True\n",
        "menor_que = 5 < 3  # False\n",
        "mayor_o_igual_que = 5 >= 3  # True\n",
        "menor_o_igual_que = 5 <= 3  # False"
      ],
      "metadata": {
        "id": "peWLRqaR-NaK"
      },
      "execution_count": 13,
      "outputs": []
    },
    {
      "cell_type": "code",
      "source": [
        "# Operadores lógicos\n",
        "y = True and False  # False\n",
        "o = True or False  # True\n",
        "no = not True  # False"
      ],
      "metadata": {
        "id": "kNJngN4K-jS_"
      },
      "execution_count": 14,
      "outputs": []
    },
    {
      "cell_type": "code",
      "source": [
        "saludo = \"Hola Mundo\"\n",
        "cita = 'Los alumnos de ICO dicen: \"Hola Mundo\"'\n",
        "parrafo = \"\"\"Esto es un párrafo\n",
        "que abarca varias\n",
        "líneas\"\"\""
      ],
      "metadata": {
        "id": "2iYlQ4EE-jfs"
      },
      "execution_count": 15,
      "outputs": []
    },
    {
      "cell_type": "code",
      "source": [
        "def fn_uno():\n",
        "    print(\"Hola\")"
      ],
      "metadata": {
        "id": "ZV2urejK-jtf"
      },
      "execution_count": null,
      "outputs": []
    },
    {
      "cell_type": "code",
      "source": [
        "a, b, c = 10, \"Hola\", [2.3, 3.4]\n",
        "print(a)\n",
        "print(b)\n",
        "print(c[1])"
      ],
      "metadata": {
        "id": "hucrcauz-j47"
      },
      "execution_count": null,
      "outputs": []
    },
    {
      "cell_type": "code",
      "source": [
        "# entrada por teclado\n",
        "nombre = input(\"Por favor, introduce tu nombre: \")\n",
        "print(f\"Hola {nombre}!\")\n",
        " \n",
        "edad = int(input(\"Introduce tu edad:\"))\n",
        "print(f\"{nombre} tiene {edad} años\")"
      ],
      "metadata": {
        "colab": {
          "base_uri": "https://localhost:8080/"
        },
        "id": "AkrPgK6TAArO",
        "outputId": "05349dbe-2f7a-42c8-9435-a237eab8078e"
      },
      "execution_count": 20,
      "outputs": [
        {
          "output_type": "stream",
          "name": "stdout",
          "text": [
            "Por favor, introduce tu nombre: berni\n",
            "Hola berni!\n",
            "Introduce tu edad:23\n",
            "berni tiene 23 años\n"
          ]
        }
      ]
    },
    {
      "cell_type": "code",
      "source": [
        "mensaje = \"Hola Mundo\"  # String\n",
        "edad = 20               # Integer\n",
        "pi = 3.14159            # Float\n",
        "es_mayor = True         # Boolean\n",
        "imaginario = 3 + 4j     # Imaginario"
      ],
      "metadata": {
        "id": "UAbkFEr-ADLV"
      },
      "execution_count": 21,
      "outputs": []
    },
    {
      "cell_type": "code",
      "source": [
        "imaginario"
      ],
      "metadata": {
        "colab": {
          "base_uri": "https://localhost:8080/"
        },
        "id": "hnKJavjjEhHr",
        "outputId": "2ac7a8e5-5a30-4665-8db7-9ceafee71574"
      },
      "execution_count": 22,
      "outputs": [
        {
          "output_type": "execute_result",
          "data": {
            "text/plain": [
              "(3+4j)"
            ]
          },
          "metadata": {},
          "execution_count": 22
        }
      ]
    },
    {
      "cell_type": "code",
      "source": [
        "frutas = ['limon','aguacate','fresa']\n",
        "cosas = ['limon', 10, 3.1416, True, [1,2,3,4], \"hola\"]\n",
        "print(cosas)\n",
        "print(frutas[0])\n",
        "print(frutas[1])\n",
        "print(frutas[:-1])\n",
        "print(frutas[2:])"
      ],
      "metadata": {
        "colab": {
          "base_uri": "https://localhost:8080/"
        },
        "id": "0z-fMC48EyxX",
        "outputId": "050797d9-5cbf-41ef-e20f-63ecdae84b27"
      },
      "execution_count": 27,
      "outputs": [
        {
          "output_type": "stream",
          "name": "stdout",
          "text": [
            "['limon', 10, 3.1416, True, [1, 2, 3, 4], 'hola']\n",
            "limon\n",
            "aguacate\n",
            "['limon', 'aguacate']\n",
            "['fresa']\n"
          ]
        }
      ]
    },
    {
      "cell_type": "markdown",
      "source": [
        "Slicing:\n",
        "inicio\n",
        "stop\n",
        "step"
      ],
      "metadata": {
        "id": "z5OkO314G0mh"
      }
    },
    {
      "cell_type": "code",
      "source": [
        "ejemplo = [1,2,3,4,5,6,'a','b','c','d','e']\n",
        "rebanada = ejemplo[2:6:1]\n",
        "rebanda2 = ejemplo[6:9:1]\n",
        "print(rebanada)\n",
        "print(rebanda2)"
      ],
      "metadata": {
        "colab": {
          "base_uri": "https://localhost:8080/"
        },
        "id": "Ph8xO6k_G9lm",
        "outputId": "f92e4b8d-8dcd-4385-b011-32950ed60be2"
      },
      "execution_count": 33,
      "outputs": [
        {
          "output_type": "stream",
          "name": "stdout",
          "text": [
            "[3, 4, 5, 6]\n",
            "['a', 'b', 'c']\n"
          ]
        }
      ]
    },
    {
      "cell_type": "code",
      "source": [
        "#Tuplas\n",
        "frutas_dos = ('Aguacate', 'Limon', 'Naranja')\n",
        "\n",
        "frutas[1] = 'Piña' # es mutabla LISTA\n",
        "#frutas_dos[1] = 'Piña' # no es mutable TUPLA\n",
        "\n",
        "print(frutas_dos[0:2:1])"
      ],
      "metadata": {
        "colab": {
          "base_uri": "https://localhost:8080/"
        },
        "id": "s9xqaE5KI7WM",
        "outputId": "d9980bc8-3ab4-4c57-a5df-cff58e844565"
      },
      "execution_count": 35,
      "outputs": [
        {
          "output_type": "stream",
          "name": "stdout",
          "text": [
            "('Aguacate', 'Limon')\n"
          ]
        }
      ]
    },
    {
      "cell_type": "code",
      "source": [
        "#Diccionarios\n",
        "alumno = {'numero_cuneta' : 1234567890,\n",
        "          'carrera'  : 'ICO',\n",
        "          'direccion' : {'calle' : 'Rancho Seco','numero' : 23}\n",
        "          }\n",
        "print(alumno)"
      ],
      "metadata": {
        "colab": {
          "base_uri": "https://localhost:8080/"
        },
        "id": "B0-XNQ21KpZy",
        "outputId": "b476ab78-d4a1-4ec9-f84e-d44a2bba95d7"
      },
      "execution_count": 36,
      "outputs": [
        {
          "output_type": "stream",
          "name": "stdout",
          "text": [
            "{'numero_cuneta': 1234567890}\n"
          ]
        }
      ]
    },
    {
      "cell_type": "code",
      "source": [
        "print(alumno['dirección']['numero'])\n",
        "print(alumno['dirección']['numero'])"
      ],
      "metadata": {
        "id": "-tViB5rXMGlp"
      },
      "execution_count": null,
      "outputs": []
    },
    {
      "cell_type": "code",
      "source": [
        "#if\n",
        "edad = 20\n",
        "if edad >= 18:\n",
        "    print(\"Eres mayor de edad.\")"
      ],
      "metadata": {
        "id": "VMq05tXOADue"
      },
      "execution_count": null,
      "outputs": []
    },
    {
      "cell_type": "code",
      "source": [
        "# if-esle\n",
        " \n",
        "edad = 15\n",
        "if edad >= 18:\n",
        "    print(\"Eres mayor de edad.\")\n",
        "else:\n",
        "    print(\"Eres menor de edad.\")"
      ],
      "metadata": {
        "id": "9oZ2lgtpAEEB"
      },
      "execution_count": null,
      "outputs": []
    },
    {
      "cell_type": "code",
      "source": [
        "# if- elif - else\n",
        "edad = 20\n",
        "if edad < 13:\n",
        "    print(\"Eres un niño.\")\n",
        "elif edad < 18:\n",
        "    print(\"Eres un adolescente.\")\n",
        "else:\n",
        "    print(\"Eres un adulto.\")\n",
        " "
      ],
      "metadata": {
        "id": "RhN787bGAeQ3"
      },
      "execution_count": null,
      "outputs": []
    },
    {
      "cell_type": "code",
      "source": [
        "# if-elif-elif\n",
        "edad = 20\n",
        "if edad < 13:\n",
        "    print(\"Eres un niño.\")\n",
        "elif edad < 18:\n",
        "    print(\"Eres un adolescente.\")\n",
        "elif edad < 30:\n",
        "    print(\"Eres un joven adulto.\")"
      ],
      "metadata": {
        "id": "spPmqZMjAeOU"
      },
      "execution_count": null,
      "outputs": []
    },
    {
      "cell_type": "code",
      "source": [
        "# For   for(int = 1 ; i<10 ; i++)\n",
        " \n",
        "for i in range(1, 10, 1):\n",
        "    print(i)\n",
        " \n",
        "frutas = ['piña', 'pera', 'manzana', 'fresa', 'aguacate']\n",
        "for numero in frutas:\n",
        "    print(numero)\n",
        " \n",
        "for numero in frutas:\n",
        "    if numero == \"manzana\":\n",
        "        break   # ó continue\n",
        "    print(numero)  # imprime la fruta"
      ],
      "metadata": {
        "id": "y7E7vqv5AeK5"
      },
      "execution_count": null,
      "outputs": []
    },
    {
      "cell_type": "code",
      "source": [
        "import aritmetica\n",
        " \n",
        "resultado = aritmetica.suma(5, 3)\n",
        "print(resultado)"
      ],
      "metadata": {
        "id": "c8jrtAHMAeEf"
      },
      "execution_count": null,
      "outputs": []
    },
    {
      "cell_type": "code",
      "source": [
        "#--------------- solo unas\n",
        "from aritmetica import suma, resta\n",
        " \n",
        "print(suma(5, 3))\n",
        "print(resta(5, 3))"
      ],
      "metadata": {
        "id": "eHOm6keFAd7N"
      },
      "execution_count": null,
      "outputs": []
    },
    {
      "cell_type": "code",
      "source": [
        "# ---------renombrar\n",
        " \n",
        "import aritmetica as ari\n",
        " \n",
        "resultado = ari.suma(4, 3)\n",
        "print(resultado)"
      ],
      "metadata": {
        "id": "4XH7p_RiAdpR"
      },
      "execution_count": null,
      "outputs": []
    },
    {
      "cell_type": "code",
      "source": [
        "# escepciones\n",
        " \n",
        " \n",
        "try:\n",
        "    numero = 1 / 0\n",
        "except ZeroDivisionError:\n",
        "    print(\"No puedes dividir entre cero\")"
      ],
      "metadata": {
        "id": "l6DpynCZA_Im"
      },
      "execution_count": null,
      "outputs": []
    }
  ]
}