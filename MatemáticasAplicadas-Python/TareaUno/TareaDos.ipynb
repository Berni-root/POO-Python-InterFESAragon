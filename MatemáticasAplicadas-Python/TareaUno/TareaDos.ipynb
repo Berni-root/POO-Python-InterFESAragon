{
 "cells": [
  {
   "cell_type": "code",
   "execution_count": 1,
   "id": "a1855074",
   "metadata": {},
   "outputs": [],
   "source": [
    "import numpy as np"
   ]
  },
  {
   "cell_type": "code",
   "execution_count": 8,
   "id": "ee88d4a4",
   "metadata": {},
   "outputs": [
    {
     "name": "stdout",
     "output_type": "stream",
     "text": [
      "[[ 1.  4.]\n",
      " [-1.  3.]\n",
      " [ 2. -9.]]\n"
     ]
    }
   ],
   "source": [
    "A=np.array([[1,4],[-1,3],[2,-9]])\n",
    "cero=np.zeros((3,2))\n",
    "print(r)"
   ]
  },
  {
   "cell_type": "code",
   "execution_count": 9,
   "id": "5fc526be",
   "metadata": {
    "scrolled": true
   },
   "outputs": [
    {
     "name": "stdout",
     "output_type": "stream",
     "text": [
      "[[ 1.  4.]\n",
      " [-1.  3.]\n",
      " [ 2. -9.]]\n"
     ]
    }
   ],
   "source": [
    "r=A+cero\n",
    "print(r)"
   ]
  },
  {
   "cell_type": "code",
   "execution_count": 10,
   "id": "e073e2d2",
   "metadata": {},
   "outputs": [
    {
     "name": "stdout",
     "output_type": "stream",
     "text": [
      "[[12 -6  3]\n",
      " [-4 12 14]]\n"
     ]
    }
   ],
   "source": [
    "A=np.array([[3,0],[-1,5]])\n",
    "B=np.array([[4,-2,1],[0,2,3]])\n",
    "r=A@B\n",
    "print(r)"
   ]
  },
  {
   "cell_type": "code",
   "execution_count": 2,
   "id": "71506fe4",
   "metadata": {},
   "outputs": [
    {
     "name": "stdout",
     "output_type": "stream",
     "text": [
      "[[1.2 1.3]\n",
      " [2.2 2.1]\n",
      " [4.5 4.6]]\n",
      "[[ 87.   88.9]\n",
      " [105.6 107.1]]\n",
      "Tienda 1 192.6\n",
      "Tienda 2 196.0\n"
     ]
    }
   ],
   "source": [
    "restaurantes = np.array([[30,15,4],[25,18,8]])\n",
    "tiendas = np.array([[1.2,2.2,4.5],[1.3,2.1,4.6]])\n",
    "print(tiendas.T)\n",
    "costoPorTienda = restaurantes@tiendas.T\n",
    "print(costoPorTienda)\n",
    "print(\"Tienda 1\", (costoPorTienda[0,0]+costoPorTienda[1,0]))\n",
    "print(\"Tienda 2\", (costoPorTienda[0,1]+costoPorTienda[1,1]))"
   ]
  },
  {
   "cell_type": "code",
   "execution_count": 20,
   "id": "51985c6d",
   "metadata": {},
   "outputs": [
    {
     "name": "stdout",
     "output_type": "stream",
     "text": [
      "Camion:  [1112.5]\n",
      "Tren:  [1081.25]\n"
     ]
    }
   ],
   "source": [
    "productos_Almacen_1 = np.array([200,150,100])\n",
    "productos_ALmacen_2 = np.array([75,100,125])\n",
    "costoTren = np.array([[1.75,1.50,1.00]])\n",
    "costoCamion = np.array([[1.50,1.00,2.00]])\n",
    "camion = productos_Almacen_1@costoCamion.T + productos_ALmacen_2@costoCamion.T\n",
    "tren = productos_Almacen_1@costoTren.T + productos_ALmacen_2@costoTren.T\n",
    "print('Camion: ', camion)\n",
    "print('Tren: ', tren)"
   ]
  },
  {
   "cell_type": "code",
   "execution_count": 26,
   "id": "61c2ebe1",
   "metadata": {},
   "outputs": [
    {
     "name": "stdout",
     "output_type": "stream",
     "text": [
      "Solución:\n",
      "x = inf\n",
      "y = -inf\n"
     ]
    },
    {
     "name": "stderr",
     "output_type": "stream",
     "text": [
      "C:\\Users\\stepp\\AppData\\Local\\Temp\\ipykernel_12988\\1892549090.py:8: RuntimeWarning: divide by zero encountered in divide\n",
      "  inversa = adjunta / determinante\n"
     ]
    }
   ],
   "source": [
    "#Primer Sitema de Ecuaciones:\n",
    "A = np.array([[3, 2], [6, 4]])\n",
    "B = np.array([6, -9])\n",
    "\n",
    "adjunta = np.array([[A[1, 1], -A[0, 1]], [-A[1, 0], A[0, 0]]])\n",
    "determinante = A[0, 0] * A[1, 1] - A[0, 1] * A[1, 0]\n",
    "inversa = adjunta / determinante\n",
    "\n",
    "solucion = inversa@B.T\n",
    "\n",
    "x = solucion[0]\n",
    "y = solucion[1]\n",
    "\n",
    "print(\"Prmer Sistema\")\n",
    "print(\"x =\", x)\n",
    "print(\"y =\", y)\n",
    "\n"
   ]
  },
  {
   "cell_type": "code",
   "execution_count": 28,
   "id": "c4e775b3",
   "metadata": {},
   "outputs": [
    {
     "name": "stdout",
     "output_type": "stream",
     "text": [
      "Segundo Sistema\n",
      "x = 2.6000000000000005\n",
      "y = 0.4000000000000001\n"
     ]
    }
   ],
   "source": [
    "#Segundo Sitema de Ecuaciones:\n",
    "A = np.array([[1, 1], [1, -4]])\n",
    "B = np.array([3, 1])\n",
    "\n",
    "adjunta = np.array([[-4, -1], [-1, 1]])\n",
    "determinante = 1 * (-4) - 1 * 1\n",
    "inversa = adjunta / determinante\n",
    "\n",
    "solucion = inversa@B.T\n",
    "\n",
    "x = solucion[0]\n",
    "y = solucion[1]\n",
    "\n",
    "print(\"Segundo Sistema\")\n",
    "print(\"x =\", x)\n",
    "print(\"y =\", y)\n"
   ]
  },
  {
   "cell_type": "code",
   "execution_count": 29,
   "id": "5a6b5c4b",
   "metadata": {},
   "outputs": [
    {
     "name": "stdout",
     "output_type": "stream",
     "text": [
      "Tercer Sistema\n",
      "x = 5.4\n",
      "y = 0.0\n",
      "z = -3.8000000000000003\n"
     ]
    }
   ],
   "source": [
    "#Tercer Sitema de Ecuaciones:\n",
    "A = np.array([[2, -1, 2], [2, 3, -1], [1, 2, 2]])\n",
    "B = np.array([3, 0, -12])\n",
    "\n",
    "adjunta = np.array([[7, 6, -5], [-8, 8, -2], [-3, -4, 4]])\n",
    "determinante = 2 * (3 * 4 - (-1) * 2) - (-1) * (2 * 4 - (-1) * 1) + 2 * (2 * (-4) - 3 * 1)\n",
    "inversa = adjunta / determinante\n",
    "\n",
    "solucion = inversa@B.T\n",
    "\n",
    "x = solucion[0]\n",
    "y = solucion[1]\n",
    "z = solucion[2]\n",
    "\n",
    "print(\"Tercer Sistema\")\n",
    "print(\"x =\", x)\n",
    "print(\"y =\", y)\n",
    "print(\"z =\", z)\n"
   ]
  }
 ],
 "metadata": {
  "kernelspec": {
   "display_name": "Python 3 (ipykernel)",
   "language": "python",
   "name": "python3"
  },
  "language_info": {
   "codemirror_mode": {
    "name": "ipython",
    "version": 3
   },
   "file_extension": ".py",
   "mimetype": "text/x-python",
   "name": "python",
   "nbconvert_exporter": "python",
   "pygments_lexer": "ipython3",
   "version": "3.10.9"
  }
 },
 "nbformat": 4,
 "nbformat_minor": 5
}
