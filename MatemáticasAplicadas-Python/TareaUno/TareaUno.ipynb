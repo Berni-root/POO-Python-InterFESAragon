{
 "cells": [
  {
   "cell_type": "markdown",
   "id": "d3856bce",
   "metadata": {},
   "source": [
    "EJERCICIOS UNO"
   ]
  },
  {
   "cell_type": "code",
   "execution_count": 2,
   "id": "c5c15f89",
   "metadata": {},
   "outputs": [],
   "source": [
    "import math"
   ]
  },
  {
   "cell_type": "code",
   "execution_count": 5,
   "id": "07f59a30",
   "metadata": {
    "scrolled": true
   },
   "outputs": [
    {
     "name": "stdout",
     "output_type": "stream",
     "text": [
      "11\n"
     ]
    }
   ],
   "source": [
    "print(math.ceil(math.log(2000,2)))"
   ]
  },
  {
   "cell_type": "markdown",
   "id": "2aac0194",
   "metadata": {},
   "source": [
    "EJERCICIO DOS"
   ]
  },
  {
   "cell_type": "code",
   "execution_count": 9,
   "id": "a53cb5ae",
   "metadata": {
    "scrolled": false
   },
   "outputs": [
    {
     "name": "stdout",
     "output_type": "stream",
     "text": [
      "1.0\n"
     ]
    }
   ],
   "source": [
    "print(math.log(2,2) + math.log(1,2))"
   ]
  },
  {
   "cell_type": "markdown",
   "id": "2110bcf0",
   "metadata": {},
   "source": [
    "EJERCICIO TRES"
   ]
  },
  {
   "cell_type": "code",
   "execution_count": 13,
   "id": "d21bd757",
   "metadata": {},
   "outputs": [
    {
     "name": "stdout",
     "output_type": "stream",
     "text": [
      "-1.0\n",
      "1.2246467991473532e-16\n"
     ]
    }
   ],
   "source": [
    "radianes = (math.pi/180) * 90\n",
    "print(math.cos(radianes))\n",
    "print(math.sin(radianes))\n"
   ]
  },
  {
   "cell_type": "code",
   "execution_count": 14,
   "id": "1176bfa9",
   "metadata": {},
   "outputs": [
    {
     "name": "stdout",
     "output_type": "stream",
     "text": [
      "-0.7071067811865475\n",
      "0.7071067811865476\n"
     ]
    }
   ],
   "source": [
    "radianes = (math.pi/180) * 135\n",
    "print(math.cos(radianes))\n",
    "print(math.sin(radianes))"
   ]
  },
  {
   "cell_type": "code",
   "execution_count": 15,
   "id": "960b9fdb",
   "metadata": {},
   "outputs": [
    {
     "name": "stdout",
     "output_type": "stream",
     "text": [
      "0.8660254037844384\n",
      "-0.5000000000000004\n"
     ]
    }
   ],
   "source": [
    "radianes = (math.pi/180) * 330\n",
    "print(math.cos(radianes))\n",
    "print(math.sin(radianes))"
   ]
  },
  {
   "cell_type": "code",
   "execution_count": 17,
   "id": "2e460e96",
   "metadata": {},
   "outputs": [
    {
     "name": "stdout",
     "output_type": "stream",
     "text": [
      "0.8660254037844392\n",
      "0.49999999999999906\n"
     ]
    }
   ],
   "source": [
    "radianes = (math.pi/180) * 750\n",
    "print(math.cos(radianes))\n",
    "print(math.sin(radianes))"
   ]
  },
  {
   "cell_type": "markdown",
   "id": "62e82e19",
   "metadata": {},
   "source": [
    "EJERCICIO CUATRO"
   ]
  },
  {
   "cell_type": "code",
   "execution_count": 18,
   "id": "836012dc",
   "metadata": {},
   "outputs": [
    {
     "name": "stdout",
     "output_type": "stream",
     "text": [
      "11232000\n"
     ]
    }
   ],
   "source": [
    "print(math.perm(26,3)*math.perm(10,3))"
   ]
  },
  {
   "cell_type": "code",
   "execution_count": 19,
   "id": "e0ce975b",
   "metadata": {},
   "outputs": [
    {
     "name": "stdout",
     "output_type": "stream",
     "text": [
      "17576000.0\n"
     ]
    }
   ],
   "source": [
    "print(math.pow(26,3)*math.pow(10,3))"
   ]
  },
  {
   "cell_type": "raw",
   "id": "18ecb549",
   "metadata": {},
   "source": [
    "EJERCICIO CINCO"
   ]
  },
  {
   "cell_type": "code",
   "execution_count": 20,
   "id": "66b7a071",
   "metadata": {},
   "outputs": [
    {
     "name": "stdout",
     "output_type": "stream",
     "text": [
      "10\n"
     ]
    }
   ],
   "source": [
    "print(math.comb(5,3))"
   ]
  }
 ],
 "metadata": {
  "kernelspec": {
   "display_name": "Python 3 (ipykernel)",
   "language": "python",
   "name": "python3"
  },
  "language_info": {
   "codemirror_mode": {
    "name": "ipython",
    "version": 3
   },
   "file_extension": ".py",
   "mimetype": "text/x-python",
   "name": "python",
   "nbconvert_exporter": "python",
   "pygments_lexer": "ipython3",
   "version": "3.10.9"
  }
 },
 "nbformat": 4,
 "nbformat_minor": 5
}
