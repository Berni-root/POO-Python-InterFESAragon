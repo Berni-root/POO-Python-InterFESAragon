{
  "nbformat": 4,
  "nbformat_minor": 0,
  "metadata": {
    "colab": {
      "provenance": [],
      "authorship_tag": "ABX9TyObAXUBW23dMnhbvm1Jq5lZ",
      "include_colab_link": true
    },
    "kernelspec": {
      "name": "python3",
      "display_name": "Python 3"
    },
    "language_info": {
      "name": "python"
    }
  },
  "cells": [
    {
      "cell_type": "markdown",
      "metadata": {
        "id": "view-in-github",
        "colab_type": "text"
      },
      "source": [
        "<a href=\"https://colab.research.google.com/github/Berni-root/POO-Python-InterFESAragon/blob/main/MartesPOO.ipynb\" target=\"_parent\"><img src=\"https://colab.research.google.com/assets/colab-badge.svg\" alt=\"Open In Colab\"/></a>"
      ]
    },
    {
      "cell_type": "code",
      "execution_count": 2,
      "metadata": {
        "id": "k7b68Bc0_TE-",
        "colab": {
          "base_uri": "https://localhost:8080/"
        },
        "outputId": "69b44670-9c59-4108-a798-25b2d11a9054"
      },
      "outputs": [
        {
          "output_type": "stream",
          "name": "stdout",
          "text": [
            "te falta calle\n"
          ]
        }
      ],
      "source": [
        "#if\n",
        "edad = 2\n",
        "if edad >= 18:\n",
        "  print(\"Eres mayor de edad\")\n",
        "  print(\"otra cosa\")\n",
        "  print(\"algo mas\")\n",
        "else:\n",
        "  print(\"te falta calle\")\n"
      ]
    },
    {
      "cell_type": "code",
      "source": [
        "# if-elif-elif Seleccion múltiple (switch)\n",
        "edad = 15\n",
        "if edad < 13:\n",
        "    print(\"Eres un niño.\")\n",
        "elif edad < 18:\n",
        "    print(\"Eres un adolescente.\")\n",
        "elif edad < 30:\n",
        "    print(\"Eres un joven adulto.\")"
      ],
      "metadata": {
        "colab": {
          "base_uri": "https://localhost:8080/"
        },
        "id": "IazTTcPY_7Pb",
        "outputId": "cfb897d4-5f37-45c0-c812-997899004b44"
      },
      "execution_count": null,
      "outputs": [
        {
          "output_type": "stream",
          "name": "stdout",
          "text": [
            "Eres un adolescente.\n"
          ]
        }
      ]
    },
    {
      "cell_type": "code",
      "source": [
        "# For   for (int i = 1; i<10; i++)\n",
        "lim = 11\n",
        "for i in range(0,lim,1):\n",
        "  print(i)"
      ],
      "metadata": {
        "colab": {
          "base_uri": "https://localhost:8080/"
        },
        "id": "XouGAwD0AMzj",
        "outputId": "08629d2b-724a-4859-afa8-f39928ad6cf8"
      },
      "execution_count": null,
      "outputs": [
        {
          "output_type": "stream",
          "name": "stdout",
          "text": [
            "0\n",
            "1\n",
            "2\n",
            "3\n",
            "4\n",
            "5\n",
            "6\n",
            "7\n",
            "8\n",
            "9\n",
            "10\n"
          ]
        }
      ]
    },
    {
      "cell_type": "code",
      "source": [
        "#for-each\n",
        "frutas = ['piña', 'pera', 'manzana', 'fresa', 'aguacate']\n",
        "for numero in frutas:\n",
        "    print(numero)\n"
      ],
      "metadata": {
        "colab": {
          "base_uri": "https://localhost:8080/"
        },
        "id": "NALPgD7ECTj7",
        "outputId": "696b8ee8-d223-465e-809a-98a6f2ea2389"
      },
      "execution_count": null,
      "outputs": [
        {
          "output_type": "stream",
          "name": "stdout",
          "text": [
            "piña\n",
            "pera\n",
            "manzana\n",
            "fresa\n",
            "aguacate\n"
          ]
        }
      ]
    },
    {
      "cell_type": "code",
      "source": [
        "#break\n",
        "for numero in frutas:\n",
        "    if numero == \"manzana\":\n",
        "        break   # ó continue\n",
        "    print(numero)  # imprime la fruta\n",
        "print(\"Fin\")"
      ],
      "metadata": {
        "colab": {
          "base_uri": "https://localhost:8080/"
        },
        "id": "v5QZ2vy1Ct7y",
        "outputId": "48522ee3-4f91-4012-be52-fb321a049788"
      },
      "execution_count": null,
      "outputs": [
        {
          "output_type": "stream",
          "name": "stdout",
          "text": [
            "piña\n",
            "pera\n",
            "Fin\n"
          ]
        }
      ]
    },
    {
      "cell_type": "code",
      "source": [
        "#continue\n",
        "for numero in frutas:\n",
        "    if numero == \"manzana\":\n",
        "        continue   # ó continue\n",
        "    print(numero)  # imprime la fruta\n",
        "print(\"Fin\")"
      ],
      "metadata": {
        "colab": {
          "base_uri": "https://localhost:8080/"
        },
        "id": "0_ea5SNhDVWz",
        "outputId": "be53b847-647f-4b20-8717-382e095f1f53"
      },
      "execution_count": null,
      "outputs": [
        {
          "output_type": "stream",
          "name": "stdout",
          "text": [
            "piña\n",
            "pera\n",
            "fresa\n",
            "aguacate\n",
            "Fin\n"
          ]
        }
      ]
    },
    {
      "cell_type": "code",
      "source": [
        "tam = 0\n",
        "while tam < 10:\n",
        "  print(tam)\n",
        "  tam = int(input(\"Dame un número entero: \"))\n",
        "print(\"Final\")\n"
      ],
      "metadata": {
        "colab": {
          "base_uri": "https://localhost:8080/"
        },
        "id": "zW4TPcihDeny",
        "outputId": "bd956e43-42a3-426f-b8fa-82aa3b2b53e6"
      },
      "execution_count": null,
      "outputs": [
        {
          "output_type": "stream",
          "name": "stdout",
          "text": [
            "0\n",
            "Dame un número: 12\n",
            "Final\n"
          ]
        }
      ]
    },
    {
      "cell_type": "code",
      "source": [],
      "metadata": {
        "id": "OmAitg7fD-tT"
      },
      "execution_count": null,
      "outputs": []
    }
  ]
}